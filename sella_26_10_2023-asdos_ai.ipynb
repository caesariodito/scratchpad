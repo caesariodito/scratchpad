{
 "cells": [
  {
   "cell_type": "code",
   "execution_count": 34,
   "metadata": {},
   "outputs": [],
   "source": [
    "graphs={\n",
    "        \"A\" : [\"B\", \"C\"],\n",
    "        \"B\" : [\"A\", \"E\"],\n",
    "        \"C\" : [\"A\", \"D\", \"F\"],\n",
    "        \"D\" : [\"C\", \"I\", \"G\"],\n",
    "        \"E\" : [\"B\", \"H\"],\n",
    "        \"F\" : [\"C\", \"I\"],\n",
    "        \"G\" : [\"D\", \"J\", \"B\"],\n",
    "        \"H\" : [\"E\", \"J\"],\n",
    "        \"I\" : [\"F\", \"D\", \"J\"],\n",
    "        \"J\" : [\"I\", \"G\", \"H\"],\n",
    "    }"
   ]
  },
  {
   "cell_type": "markdown",
   "metadata": {},
   "source": [
    "# BFS"
   ]
  },
  {
   "cell_type": "code",
   "execution_count": 35,
   "metadata": {},
   "outputs": [],
   "source": [
    "def bfs(graph,start,end):\n",
    "    queue = [start]\n",
    "    visited = []\n",
    "    current = ''\n",
    "    neighbor = ''\n",
    "\n",
    "    while queue:\n",
    "        current = queue.pop(0)\n",
    "        if current == end:\n",
    "            visited.append(current)\n",
    "            break\n",
    "        if current not in visited:\n",
    "            visited.append(current)\n",
    "            neighbor = graph[current]\n",
    "            for x in neighbor:\n",
    "                queue.append(x)\n",
    "    return print(visited)"
   ]
  },
  {
   "cell_type": "markdown",
   "metadata": {},
   "source": [
    "# DFS"
   ]
  },
  {
   "cell_type": "code",
   "execution_count": 36,
   "metadata": {},
   "outputs": [],
   "source": [
    "def dfs(graf, start, goal):\n",
    "    stack = [start]\n",
    "    visited = []\n",
    "\n",
    "    while stack:\n",
    "        stack_len = len(stack)-1\n",
    "        edge = stack.pop(stack_len)\n",
    "        state = edge[-1]\n",
    "\n",
    "        if state == goal:\n",
    "            return edge\n",
    "        elif state not in visited:\n",
    "            for cabang in graf.get(state, []):\n",
    "                new_edge = list(edge)\n",
    "                new_edge.append(cabang)\n",
    "                stack.append(new_edge)\n",
    "\n",
    "            visited.append(state)\n",
    "\n",
    "        isi = len(stack)\n",
    "        if isi == 0:\n",
    "            print(\"Not found\")"
   ]
  },
  {
   "cell_type": "markdown",
   "metadata": {},
   "source": [
    "# Answer"
   ]
  },
  {
   "cell_type": "code",
   "execution_count": 37,
   "metadata": {},
   "outputs": [
    {
     "name": "stdout",
     "output_type": "stream",
     "text": [
      "['J', 'I', 'G', 'H', 'F', 'D', 'B', 'E', 'C']\n"
     ]
    }
   ],
   "source": [
    "bfs(graphs, \"J\", \"C\")"
   ]
  },
  {
   "cell_type": "code",
   "execution_count": 38,
   "metadata": {},
   "outputs": [
    {
     "data": {
      "text/plain": [
       "['J', 'H', 'E', 'B', 'A', 'C']"
      ]
     },
     "execution_count": 38,
     "metadata": {},
     "output_type": "execute_result"
    }
   ],
   "source": [
    "dfs(graphs, \"J\", \"C\")"
   ]
  }
 ],
 "metadata": {
  "kernelspec": {
   "display_name": "Python 3",
   "language": "python",
   "name": "python3"
  },
  "language_info": {
   "codemirror_mode": {
    "name": "ipython",
    "version": 3
   },
   "file_extension": ".py",
   "mimetype": "text/x-python",
   "name": "python",
   "nbconvert_exporter": "python",
   "pygments_lexer": "ipython3",
   "version": "3.11.5"
  }
 },
 "nbformat": 4,
 "nbformat_minor": 2
}
