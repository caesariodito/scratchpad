{
 "cells": [
  {
   "cell_type": "code",
   "execution_count": 34,
   "metadata": {},
   "outputs": [],
   "source": [
    "graphs={\n",
    "        \"A\" : [\"B\", \"C\"],\n",
    "        \"B\" : [\"A\", \"E\"],\n",
    "        \"C\" : [\"A\", \"D\", \"F\"],\n",
    "        \"D\" : [\"C\", \"I\", \"G\"],\n",
    "        \"E\" : [\"B\", \"H\"],\n",
    "        \"F\" : [\"C\", \"I\"],\n",
    "        \"G\" : [\"D\", \"J\", \"B\"],\n",
    "        \"H\" : [\"E\", \"J\"],\n",
    "        \"I\" : [\"F\", \"D\", \"J\"],\n",
    "        \"J\" : [\"I\", \"G\", \"H\"],\n",
    "    }"
   ]
  },
  {
   "cell_type": "markdown",
   "metadata": {},
   "source": [
    "# BFS"
   ]
  },
  {
   "cell_type": "code",
   "execution_count": 35,
   "metadata": {},
   "outputs": [],
   "source": [
    "def bfs(graph,start,end):\n",
    "    queue = [start]\n",
    "    visited = []\n",
    "    current = ''\n",
    "    neighbor = ''\n",
    "\n",
    "    while queue:\n",
    "        current = queue.pop(0)\n",
    "        if current == end:\n",
    "            visited.append(current)\n",
    "            break\n",
    "        if current not in visited:\n",
    "            visited.append(current)\n",
    "            neighbor = graph[current]\n",
    "            for x in neighbor:\n",
    "                queue.append(x)\n",
    "    return print(visited)"
   ]
  },
  {
   "cell_type": "markdown",
   "metadata": {},
   "source": [
    "# DFS"
   ]
  },
  {
   "cell_type": "code",
   "execution_count": 36,
   "metadata": {},
   "outputs": [],
   "source": [
    "def dfs(graf, start, goal):\n",
    "    stack = [start]\n",
    "    visited = []\n",
    "\n",
    "    while stack:\n",
    "        stack_len = len(stack)-1\n",
    "        edge = stack.pop(stack_len)\n",
    "        state = edge[-1]\n",
    "\n",
    "        if state == goal:\n",
    "            return edge\n",
    "        elif state not in visited:\n",
    "            for cabang in graf.get(state, []):\n",
    "                new_edge = list(edge)\n",
    "                new_edge.append(cabang)\n",
    "                stack.append(new_edge)\n",
    "\n",
    "            visited.append(state)\n",
    "\n",
    "        isi = len(stack)\n",
    "        if isi == 0:\n",
    "            print(\"Not found\")"
   ]
  },
  {
   "cell_type": "markdown",
   "metadata": {},
   "source": [
    "# Answer"
   ]
  },
  {
   "cell_type": "code",
   "execution_count": 37,
   "metadata": {},
   "outputs": [
    {
     "name": "stdout",
     "output_type": "stream",
     "text": [
      "['J', 'I', 'G', 'H', 'F', 'D', 'B', 'E', 'C']\n"
     ]
    }
   ],
   "source": [
    "bfs(graphs, \"J\", \"C\")"
   ]
  },
  {
   "cell_type": "code",
   "execution_count": 39,
   "metadata": {},
   "outputs": [
    {
     "data": {
      "text/plain": [
       "['A', 'C', 'F', 'I', 'J']"
      ]
     },
     "execution_count": 39,
     "metadata": {},
     "output_type": "execute_result"
    }
   ],
   "source": [
    "dfs(graphs, \"A\", \"J\")"
   ]
  },
  {
   "cell_type": "code",
   "execution_count": 42,
   "metadata": {},
   "outputs": [
    {
     "name": "stdout",
     "output_type": "stream",
     "text": [
      "user inputs:  J C bfs\n",
      "Jalur yang ditemukan:\n",
      "['J', 'I', 'G', 'H', 'F', 'D', 'B', 'E', 'C']\n"
     ]
    }
   ],
   "source": [
    "node_start = input(\"Masukkan node start: \")\n",
    "node_goal = input(\"Masukkan node goal: \")\n",
    "method = input(\"Masukkan metode (bfs/dfs): \")\n",
    "\n",
    "\n",
    "print(\"user inputs: \", node_start, node_goal, method)\n",
    "\n",
    "print(\"Jalur yang ditemukan:\")\n",
    "if method == \"bfs\":\n",
    "    bfs(graphs, node_start, node_goal)\n",
    "elif method == \"dfs\":\n",
    "    dfs(graphs, node_start, node_goal)\n",
    "else:\n",
    "    print(\"Metode tidak ditemukan\")"
   ]
  }
 ],
 "metadata": {
  "kernelspec": {
   "display_name": "Python 3",
   "language": "python",
   "name": "python3"
  },
  "language_info": {
   "codemirror_mode": {
    "name": "ipython",
    "version": 3
   },
   "file_extension": ".py",
   "mimetype": "text/x-python",
   "name": "python",
   "nbconvert_exporter": "python",
   "pygments_lexer": "ipython3",
   "version": "3.11.5"
  }
 },
 "nbformat": 4,
 "nbformat_minor": 2
}
