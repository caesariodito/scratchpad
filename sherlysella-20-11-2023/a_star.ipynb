{
 "cells": [
  {
   "cell_type": "code",
   "execution_count": 3,
   "metadata": {},
   "outputs": [],
   "source": [
    "import heapq  #\n",
    "\n",
    "\n",
    "class Graph:\n",
    "    def __init__(self):\n",
    "        self.nodes = (\n",
    "            set()\n",
    "        )  # menginisialisasi atribut 'nodes' dalam bentuk himpunan dengan set() agar tidak terjadi duplikasi node\n",
    "        self.edges = {}  # menginisialisasi atribut 'edges' dalam bentuk dictionary\n",
    "        # print(\"aku sudah dibuat -graph\")\n",
    "\n",
    "    def add_node(self, value):\n",
    "        self.nodes.add(value)  # menambahkan nilai value ke dalam self.nodes\n",
    "        self.edges[value] = []  # menambah nodes baru untuk dimasukan isi\n",
    "\n",
    "    def add_edge(self, from_node, to_node, distance):\n",
    "        self.edges[from_node].append((to_node, distance))\n",
    "        self.edges[to_node].append((from_node, distance))\n",
    "\n",
    "\n",
    "def astar(graph, graph_baru, start, goal):\n",
    "    open_set = []\n",
    "    heapq.heappush(open_set, (0, start, []))\n",
    "    closed_set = set()\n",
    "    print(\"state pertama:\", open_set)\n",
    "    print()\n",
    "\n",
    "    while open_set:\n",
    "        print(\"open_set: \", open_set)\n",
    "        cost, current, path = heapq.heappop(open_set)\n",
    "\n",
    "        print(\"current: \", current)\n",
    "        print(\"cost: \", cost)\n",
    "        print(\"path: \", path)\n",
    "        print(\"closed_set: \", closed_set)\n",
    "        print(\"===\\n\")\n",
    "\n",
    "        # checking\n",
    "        if current in closed_set:\n",
    "            continue\n",
    "\n",
    "        # buat tau path-nya\n",
    "        path = path + [current]\n",
    "\n",
    "        # kalo udah ketemu titik akhirnya\n",
    "        if current == goal:\n",
    "            return path, cost\n",
    "\n",
    "        # menandakan node sudah di-visit\n",
    "        closed_set.add(current)\n",
    "\n",
    "        # ngecek tetangga\n",
    "        for neighbor, distance in graph.edges[current]:\n",
    "            if neighbor not in closed_set:\n",
    "                h = graph_baru.edges[neighbor]\n",
    "                heapq.heappush(open_set, ((cost + distance) + h, neighbor, path))\n",
    "\n",
    "    return None\n",
    "\n",
    "\n",
    "# Inisialisasi graf\n",
    "city_map = Graph()\n",
    "city_map.add_node(\"A\")\n",
    "city_map.add_node(\"B\")\n",
    "\n",
    "city_map.add_edge(\"A\", \"B\", 37)"
   ]
  },
  {
   "cell_type": "code",
   "execution_count": 4,
   "metadata": {},
   "outputs": [],
   "source": [
    "hoax_map = Graph()\n",
    "hoax_map.add_node(\"A\")\n",
    "hoax_map.add_node(\"B\")\n",
    "hoax_map.add_edge(\"A\", \"B\", 100)"
   ]
  },
  {
   "cell_type": "code",
   "execution_count": 5,
   "metadata": {},
   "outputs": [
    {
     "data": {
      "text/plain": [
       "[('B', 37)]"
      ]
     },
     "execution_count": 5,
     "metadata": {},
     "output_type": "execute_result"
    }
   ],
   "source": [
    "city_map.edges[\"A\"]"
   ]
  },
  {
   "cell_type": "code",
   "execution_count": 7,
   "metadata": {},
   "outputs": [
    {
     "data": {
      "text/plain": [
       "[('B', 100)]"
      ]
     },
     "execution_count": 7,
     "metadata": {},
     "output_type": "execute_result"
    }
   ],
   "source": [
    "hoax_map.edges[\"A\"]"
   ]
  }
 ],
 "metadata": {
  "kernelspec": {
   "display_name": "venv",
   "language": "python",
   "name": "python3"
  },
  "language_info": {
   "codemirror_mode": {
    "name": "ipython",
    "version": 3
   },
   "file_extension": ".py",
   "mimetype": "text/x-python",
   "name": "python",
   "nbconvert_exporter": "python",
   "pygments_lexer": "ipython3",
   "version": "3.11.5"
  }
 },
 "nbformat": 4,
 "nbformat_minor": 2
}
